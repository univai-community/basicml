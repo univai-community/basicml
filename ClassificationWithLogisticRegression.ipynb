{
 "cells": [
  {
   "cell_type": "markdown",
   "metadata": {},
   "source": [
    "<a target=\"_blank\" href=\"https://colab.research.google.com/github/univai-community/basicml/blob/main/ClassificationWithLogisticRegression.ipynb\">\n",
    "  <img src=\"https://colab.research.google.com/assets/colab-badge.svg\" alt=\"Open In Colab\"/>\n",
    "</a>\n",
    "\n",
    "# Classification: the basic ideas"
   ]
  },
  {
   "cell_type": "code",
   "execution_count": null,
   "metadata": {},
   "outputs": [],
   "source": [
    "# only run if on colab\n",
    "!git init; git remote add origin https://github.com/univai-community/basicml.git; git pull origin main"
   ]
  },
  {
   "cell_type": "code",
   "execution_count": 2,
   "metadata": {},
   "outputs": [],
   "source": [
    "%matplotlib inline\n",
    "import numpy as np\n",
    "import matplotlib.pyplot as plt\n",
    "from sklearn.datasets import make_blobs"
   ]
  },
  {
   "cell_type": "markdown",
   "metadata": {},
   "source": [
    "We first create some data. This is one of the beauties of python libraries like `sklearn`. There are easy facilities to generate data: this enables us to use *simulation* to answer basic questions. This is a very powerful **experimental** way of learning."
   ]
  },
  {
   "cell_type": "code",
   "execution_count": 3,
   "metadata": {},
   "outputs": [],
   "source": [
    "X, y = make_blobs(n_samples=100, centers= np.array([[-1],[1]]), n_features=1, shuffle=True, random_state=2017)"
   ]
  },
  {
   "cell_type": "markdown",
   "metadata": {},
   "source": [
    "We are creating a classification problem. So we'll generate some data around $x=-1$ and $x=1$ with different y values. Can we classify this data?"
   ]
  },
  {
   "cell_type": "code",
   "execution_count": 4,
   "metadata": {},
   "outputs": [
    {
     "data": {
      "text/plain": [
       "<matplotlib.collections.PathCollection at 0x14a63f790>"
      ]
     },
     "execution_count": 4,
     "metadata": {},
     "output_type": "execute_result"
    },
    {
     "data": {
      "image/png": "[encoded data removed]",
      "text/plain": [
       "<Figure size 640x480 with 1 Axes>"
      ]
     },
     "metadata": {},
     "output_type": "display_data"
    }
   ],
   "source": [
    "plt.scatter(X,y)"
   ]
  },
  {
   "cell_type": "markdown",
   "metadata": {},
   "source": [
    "## Fitting curves is a key idea of machine learning\n",
    "\n",
    "You have probably heard of linear regression. Lets say you have some data which looks like the red dots in the image below:\n",
    "\n",
    "![](images/linreg.png)\n",
    "\n",
    "The basic idea in linear regression is to fit a line to this data. So you eyeball the red line in the image above to be the \"best fit\" line?\n",
    "\n",
    "What visual algorithm are your eyes using?"
   ]
  },
  {
   "cell_type": "markdown",
   "metadata": {},
   "source": [
    "What you are doing is minimizing a **Loss Function**: the distance between a given line and the data points as shown by the thin black lines in the figure above. In mathematical notation you would write this as:\n",
    "\n",
    "$${\\cal L} =  \\frac{1}{N}\\sum_{i = 1}^{N} (y_i - (m\\,x_i + b))^2 $$\n",
    "\n",
    "Now, your job is to find slope $m$ and intercept $b$ to minimize ${\\cal L}$. The standard way to do this is calculus.\n",
    "\n",
    "You dont have to use a line. You could use a neural network function, a sine curve, or anything really: you just need to find its *parameters*, like the slope and intercept in the linear regression case.\n",
    "\n",
    "This **fitting** is one of the *key ideas* of machine learning."
   ]
  },
  {
   "cell_type": "markdown",
   "metadata": {},
   "source": [
    "### Ok, so why not use a line to fit our data\n",
    "\n",
    "Let us use a line to fit our data. I know, it does not use very \"liney\", but lets play, shall we?"
   ]
  },
  {
   "cell_type": "code",
   "execution_count": 60,
   "metadata": {},
   "outputs": [
    {
     "data": {
      "text/plain": [
       "<matplotlib.collections.PathCollection at 0x14be6e9d0>"
      ]
     },
     "execution_count": 60,
     "metadata": {},
     "output_type": "execute_result"
    },
    {
     "data": {
      "image/png": "[encoded data removed]",
      "text/plain": [
       "<Figure size 640x480 with 1 Axes>"
      ]
     },
     "metadata": {},
     "output_type": "display_data"
    }
   ],
   "source": [
    "plt.scatter(X,y)"
   ]
  },
  {
   "cell_type": "markdown",
   "metadata": {},
   "source": [
    "The `sklearn` library makes this very easy for us. We first import the `LinearRegression` module."
   ]
  },
  {
   "cell_type": "code",
   "execution_count": 30,
   "metadata": {},
   "outputs": [],
   "source": [
    "from sklearn.linear_model import LinearRegression"
   ]
  },
  {
   "cell_type": "markdown",
   "metadata": {},
   "source": [
    "Notice that `X` must be 2-D, even if there is only one independent variable, or **feature**. This is to accommodate the usual case in machine learning where there are tons of features."
   ]
  },
  {
   "cell_type": "code",
   "execution_count": 64,
   "metadata": {},
   "outputs": [
    {
     "data": {
      "text/plain": [
       "array([[ 1.89574884e+00],\n",
       "       [ 7.79920722e-01],\n",
       "       [-1.81726253e+00],\n",
       "       [ 1.21276995e+00],\n",
       "       [ 1.67422499e+00],\n",
       "       [ 1.41544256e-01],\n",
       "       [ 5.62827432e-01],\n",
       "       [-1.84860918e+00],\n",
       "       [ 3.06666159e-01],\n",
       "       [ 7.25188274e-01],\n",
       "       [-1.14213621e-01],\n",
       "       [-7.17207488e-02],\n",
       "       [-1.52824237e+00],\n",
       "       [-5.55178535e-01],\n",
       "       [ 2.75331995e-01],\n",
       "       [-2.02294529e+00],\n",
       "       [ 1.36476556e-01],\n",
       "       [ 1.03133165e+00],\n",
       "       [ 1.67705620e+00],\n",
       "       [-1.35285906e+00],\n",
       "       [ 4.71515882e-02],\n",
       "       [ 9.88930042e-01],\n",
       "       [-2.08933018e+00],\n",
       "       [ 2.66876509e-01],\n",
       "       [ 9.01562268e-01],\n",
       "       [-1.01124513e+00],\n",
       "       [ 1.03225343e+00],\n",
       "       [-7.85546580e-01],\n",
       "       [ 2.19533418e+00],\n",
       "       [-1.48253414e+00],\n",
       "       [ 4.46924733e-01],\n",
       "       [-8.81973943e-02],\n",
       "       [ 1.10784411e+00],\n",
       "       [ 1.59405599e+00],\n",
       "       [ 2.90456617e-01],\n",
       "       [-8.51487191e-01],\n",
       "       [-9.78157662e-01],\n",
       "       [ 2.41916537e-01],\n",
       "       [ 2.23233384e+00],\n",
       "       [ 4.62429214e-01],\n",
       "       [ 1.81253433e+00],\n",
       "       [ 2.14773859e+00],\n",
       "       [ 5.10287208e-01],\n",
       "       [-1.09592554e+00],\n",
       "       [-2.50157469e+00],\n",
       "       [ 1.88361674e+00],\n",
       "       [-1.44412137e+00],\n",
       "       [ 4.06297107e-01],\n",
       "       [-1.33654744e+00],\n",
       "       [ 1.78779876e+00],\n",
       "       [-2.43048995e+00],\n",
       "       [ 9.41356266e-03],\n",
       "       [ 1.38909450e-01],\n",
       "       [-4.26524023e-01],\n",
       "       [-1.52026100e+00],\n",
       "       [-1.95908022e+00],\n",
       "       [-7.10856022e-01],\n",
       "       [ 5.13891989e-01],\n",
       "       [ 1.50541435e+00],\n",
       "       [-1.39457786e+00],\n",
       "       [-1.48097796e-03],\n",
       "       [-2.56386788e+00],\n",
       "       [-1.84764818e+00],\n",
       "       [-1.59573347e+00],\n",
       "       [ 2.33682587e+00],\n",
       "       [-1.14039799e+00],\n",
       "       [-1.20875222e+00],\n",
       "       [ 4.44546167e-01],\n",
       "       [ 4.46746462e-01],\n",
       "       [ 2.39334529e+00],\n",
       "       [ 1.74268098e+00],\n",
       "       [-8.00907728e-01],\n",
       "       [-2.01412413e+00],\n",
       "       [ 1.04094415e-01],\n",
       "       [-9.21992412e-01],\n",
       "       [ 1.36908201e+00],\n",
       "       [-2.08669572e+00],\n",
       "       [-1.38342089e+00],\n",
       "       [ 2.18192126e+00],\n",
       "       [-3.20268367e+00],\n",
       "       [ 3.11817422e-01],\n",
       "       [-8.13869788e-01],\n",
       "       [ 7.10573289e-01],\n",
       "       [-9.73848625e-01],\n",
       "       [-2.40727442e+00],\n",
       "       [-2.23456807e+00],\n",
       "       [-1.91772873e+00],\n",
       "       [-1.19933591e+00],\n",
       "       [ 2.07524045e+00],\n",
       "       [-1.74358543e+00],\n",
       "       [-1.44574656e+00],\n",
       "       [ 2.37214258e+00],\n",
       "       [ 3.42038368e+00],\n",
       "       [-6.05238371e-01],\n",
       "       [ 2.20320029e+00],\n",
       "       [ 8.18947885e-01],\n",
       "       [ 2.20129796e+00],\n",
       "       [ 8.19922138e-01],\n",
       "       [ 1.46630994e+00],\n",
       "       [ 6.07149571e-01]])"
      ]
     },
     "execution_count": 64,
     "metadata": {},
     "output_type": "execute_result"
    }
   ],
   "source": [
    "X"
   ]
  },
  {
   "cell_type": "markdown",
   "metadata": {},
   "source": [
    "The key method in `sklearn` id `fit`. We fit the `X, y` data to find its parameters."
   ]
  },
  {
   "cell_type": "code",
   "execution_count": 65,
   "metadata": {},
   "outputs": [],
   "source": [
    "lr = LinearRegression().fit(X,y)"
   ]
  },
  {
   "cell_type": "code",
   "execution_count": 66,
   "metadata": {},
   "outputs": [
    {
     "data": {
      "text/plain": [
       "(0.5069832084244251, array([0.27309061]))"
      ]
     },
     "execution_count": 66,
     "metadata": {},
     "output_type": "execute_result"
    }
   ],
   "source": [
    "lr.intercept_, lr.coef_ # second is an array as there could be more"
   ]
  },
  {
   "cell_type": "markdown",
   "metadata": {},
   "source": [
    "We can use the **fit** `LinearRegression` instance to now predict. We'll predict on a grid of values.."
   ]
  },
  {
   "cell_type": "code",
   "execution_count": 62,
   "metadata": {},
   "outputs": [
    {
     "data": {
      "text/plain": [
       "array([[-3.5       ],\n",
       "       [-3.49299299],\n",
       "       [-3.48598599],\n",
       "       [-3.47897898],\n",
       "       [-3.47197197],\n",
       "       [-3.46496496],\n",
       "       [-3.45795796],\n",
       "       [-3.45095095],\n",
       "       [-3.44394394],\n",
       "       [-3.43693694]])"
      ]
     },
     "execution_count": 62,
     "metadata": {},
     "output_type": "execute_result"
    }
   ],
   "source": [
    "xgrid = np.linspace(-3.5,3.5, 1000)\n",
    "Xgrid = xgrid.reshape(-1,1)\n",
    "Xgrid[:10]"
   ]
  },
  {
   "cell_type": "code",
   "execution_count": 67,
   "metadata": {},
   "outputs": [],
   "source": [
    "yp = lr.predict(Xgrid)"
   ]
  },
  {
   "cell_type": "code",
   "execution_count": 68,
   "metadata": {},
   "outputs": [
    {
     "data": {
      "text/plain": [
       "[<matplotlib.lines.Line2D at 0x14c056df0>]"
      ]
     },
     "execution_count": 68,
     "metadata": {},
     "output_type": "execute_result"
    },
    {
     "data": {
      "image/png": "[encoded data removed]",
      "text/plain": [
       "<Figure size 640x480 with 1 Axes>"
      ]
     },
     "metadata": {},
     "output_type": "display_data"
    }
   ],
   "source": [
    "plt.plot(X,y,'o')\n",
    "plt.plot(xgrid, yp)"
   ]
  },
  {
   "cell_type": "markdown",
   "metadata": {},
   "source": [
    "Ok so this looks quite bad! But how might you classify using this linear regression?"
   ]
  },
  {
   "cell_type": "markdown",
   "metadata": {},
   "source": [
    "## Maximum Likelihood: maximize total probability\n",
    "\n",
    "Lets think of this problem in a more principled way. Let us model the probability that $y=1$ or that $y=0$. This probability will, as you might guess, depend on some parameters. And it will be our job to find these parameters. How might we use these probabilities to do that? The answer lies in a technique called **Maximum Likelihood**.\n",
    "\n",
    "![](images/gaussmle.png)\n",
    "\n",
    "Take a look at the 3 red data points.\n",
    "\n",
    "Which probability curve maximizes the probability of these 3 data points? The blue one or the green one?\n",
    "\n",
    "We can answer this question by drawing a line (thin rectangle around the line really) from the data points to the probability distributions. The longer the line, the more the probability of each data point from the given probability distribution.\n",
    "\n",
    "But one point isnt enough, we must take the entire dataset.\n",
    "\n",
    "Now you know that if things are independent, the total probability of them happening is the product of the individual probabilities. So the probability of the entire dataset is the product (greek letter $\\prod$) of the individual probabilities:\n",
    "\n",
    "$$p_{total} = p_1 p_2 p_3 =\\prod_{i=1}^3 p_i$$\n",
    "\n",
    "For our dataset of 3 points, is blue better? Or green better? Which one has the \"maximum likelihood\"?"
   ]
  },
  {
   "cell_type": "markdown",
   "metadata": {},
   "source": [
    "## Modeling the probability: the Sigmoid function\n",
    "\n",
    "The sigmoid function is a very special function: it maps its input to the tange 0 to 1.\n",
    "\n",
    "This function is plotted below:"
   ]
  },
  {
   "cell_type": "code",
   "execution_count": 36,
   "metadata": {},
   "outputs": [
    {
     "data": {
      "image/png": "[encoded data removed]",
      "text/plain": [
       "<Figure size 640x480 with 1 Axes>"
      ]
     },
     "metadata": {},
     "output_type": "display_data"
    }
   ],
   "source": [
    "h = lambda z: 1./(1+np.exp(-z))\n",
    "zs=np.arange(-5,5,0.1)\n",
    "plt.plot(zs, h(zs), alpha=0.5);"
   ]
  },
  {
   "cell_type": "markdown",
   "metadata": {},
   "source": [
    "$$\\renewcommand{\\v}[1]{\\mathbf #1}$$"
   ]
  },
  {
   "cell_type": "markdown",
   "metadata": {},
   "source": [
    "As $z$ gets large, $e^{-z}$ gets close to 0, and the sigmoid approaches 1. As $z$ gets large and negative, $e^{-z}$ gets very large as well, and the sigmoid approaches 0. In-between, when $z=0$, the sigmoid approached 0.1.\n",
    "\n",
    "In other words, it behaves nicely as a probability.\n",
    "\n",
    "Now, we'll use the notation $\\v{w}\\cdot\\v{x}$ to present our linear function $mx +b$. Here $\\cdot$ means the dot-product and we identify:\n",
    "\n",
    "$$\\begin{eqnarray}\n",
    "\\v{w} &=& (m, b) \\\\\n",
    "\\v{x} &=& (x, 1)\n",
    "\\end{eqnarray}$$\n",
    "\n",
    "This notation helps to generalize easily to more than one feature.\n",
    "\n",
    "Now $mx+b$ becomes $\\v{w}\\cdot\\v{x}$."
   ]
  },
  {
   "cell_type": "markdown",
   "metadata": {},
   "source": [
    "Identify: \n",
    "\n",
    "$$z = \\v{w}\\cdot\\v{x}$$ \n",
    "\n",
    "and the sigmoid\n",
    "\n",
    "$$h(\\v{w}\\cdot\\v{x})$$\n",
    "\n",
    "with the probability that the sample is a '1' ($y=1$).\n",
    "\n",
    "In other words, \"Squeeze\" linear regression through a **Sigmoid** function and this bounds the output to be a probability"
   ]
  },
  {
   "cell_type": "markdown",
   "metadata": {},
   "source": [
    "Then, the \"conditional\" probabilities of $y=1$ or $y=0$ given a particular sample's features $\\v{x}$ are:\n",
    "\n",
    "$$\\begin{eqnarray}\n",
    "P(y=1 | \\v{x}) &=& h(\\v{w}\\cdot\\v{x}) \\\\\n",
    "P(y=0 | \\v{x}) &=& 1 - h(\\v{w}\\cdot\\v{x}).\n",
    "\\end{eqnarray}$$\n",
    "\n",
    "These two can be written together as\n",
    "\n",
    "$$P(y|\\v{x}, \\v{w}) = h(\\v{w}\\cdot\\v{x})^y \\left(1 - h(\\v{w}\\cdot\\v{x}) \\right)^{(1-y)} $$\n",
    "\n",
    "This is called a BERNOULLI distribution!!"
   ]
  },
  {
   "cell_type": "markdown",
   "metadata": {},
   "source": [
    "Each sample is considered independent of the other, as in our earlier example of the 3 red data points. Thus, multiplying over the samples we get:\n",
    "\n",
    "$$P(y|\\v{x},\\v{w}) = P(\\{y_i\\} | \\{\\v{x}_i\\}, \\v{w}) = \\prod_{i \\in \\cal{D}} P(y_i|\\v{x_i}, \\v{w}) = \\prod_{i \\in \\cal{D}} h(\\v{w}\\cdot\\v{x_i})^{y_i} \\left(1 - h(\\v{w}\\cdot\\v{x_i}) \\right)^{(1-y_i)}$$"
   ]
  },
  {
   "cell_type": "markdown",
   "metadata": {},
   "source": [
    "**Maximum likelihood** estimation maximises the **likelihood**, this multiplied probability:\n",
    "\n",
    "$${\\cal L} = P(y \\mid \\v{x},\\v{w}) = P(y|\\v{x},\\v{w})$$, \n",
    "\n",
    "OR, alternately we could maximize the log-likelihood (since log is a monotonic function), $$\\renewcommand{\\v}[1]{\\mathbf #1} \\ell = log(P(y \\mid \\v{x},\\v{w}))$$."
   ]
  },
  {
   "cell_type": "markdown",
   "metadata": {},
   "source": [
    "Thus\n",
    "\n",
    "$$\\begin{eqnarray}\n",
    "\\ell &=& log\\left(\\prod_{i \\in \\cal{D}} h(\\v{w}\\cdot\\v{x_i})^{y_i} \\left(1 - h(\\v{w}\\cdot\\v{x_i}) \\right)^{(1-y_i)}\\right)\\\\\n",
    "                  &=& \\sum_{i \\in \\cal{D}} log\\left(h(\\v{w}\\cdot\\v{x_i})^{y_i} \\left(1 - h(\\v{w}\\cdot\\v{x_i}) \\right)^{(1-y_i)}\\right)\\\\\n",
    "                  &=& \\sum_{i \\in \\cal{D}} log\\,h(\\v{w}\\cdot\\v{x_i})^{y_i} + log\\,\\left(1 - h(\\v{w}\\cdot\\v{x_i}) \\right)^{(1-y_i)}\\\\\n",
    "                  &=& \\sum_{i \\in \\cal{D}} \\left ( y_i log(h(\\v{w}\\cdot\\v{x})) + ( 1 - y_i) log(1 - h(\\v{w}\\cdot\\v{x})) \\right )\n",
    "\\end{eqnarray}$$"
   ]
  },
  {
   "cell_type": "markdown",
   "metadata": {},
   "source": [
    "## Making a loss and minimizing: Logistic Regression\n",
    "\n",
    "The negative of this log likelihood (NLL), also called *cross-entropy*.\n",
    "\n",
    "$$NLL = - \\sum_{y_i \\in \\cal{D}} \\left ( y_i log(h(\\v{w}\\cdot\\v{x})) + ( 1 - y_i) log(1 - h(\\v{w}\\cdot\\v{x})) \\right )$$\n",
    "\n",
    "\n",
    "This is a loss! It can be minimized instead!!! Just like the squared-error loss we had for regression....\n",
    "\n",
    "And we are still minimizing with respect to the parameters $\\v{w}$ like we did before: ie the slope and intercept of the linear function. But keep in mind that out linear function is now wrapped with a sigmoid to get a probability!\n",
    "\n",
    "This process is now called **Logistic Reegression**. This idea is a cornerstone of classification. Indeed in complex Neural Networks one replaces the linear function by a complex neural network with tons of parameters before doing a minimization. Conceptually that is all there is to neural networks for classification, really!\n",
    "\n",
    "### Logistic Regression with `sklearn`\n",
    "\n",
    "For reasons of regularization, the concept of which is outside the scope of this article, `sklearn` has a **hyperparameter** called `C` which needs to be set. We will just set it to be very high for now. The `sklearn` technology is identical to what we learned for linear regression:"
   ]
  },
  {
   "cell_type": "code",
   "execution_count": 69,
   "metadata": {},
   "outputs": [],
   "source": [
    "from sklearn.linear_model import LogisticRegression\n",
    "logr = LogisticRegression(C=10000)\n",
    "logr.fit(X,y)"
   ]
  },
  {
   "cell_type": "markdown",
   "metadata": {},
   "source": [
    "Once again we can get the parameters"
   ]
  },
  {
   "cell_type": "code",
   "execution_count": 71,
   "metadata": {},
   "outputs": [
    {
     "data": {
      "text/plain": [
       "(array([[3.31636935]]), array([-0.08788333]))"
      ]
     },
     "execution_count": 71,
     "metadata": {},
     "output_type": "execute_result"
    }
   ],
   "source": [
    "logr.coef_, logr.intercept_"
   ]
  },
  {
   "cell_type": "markdown",
   "metadata": {},
   "source": [
    "And make predictions:"
   ]
  },
  {
   "cell_type": "code",
   "execution_count": 72,
   "metadata": {},
   "outputs": [],
   "source": [
    "ypred = logr.predict(X)\n",
    "yp2 = logr.predict(Xgrid)"
   ]
  },
  {
   "cell_type": "code",
   "execution_count": 73,
   "metadata": {},
   "outputs": [
    {
     "data": {
      "text/plain": [
       "[<matplotlib.lines.Line2D at 0x14c100e50>]"
      ]
     },
     "execution_count": 73,
     "metadata": {},
     "output_type": "execute_result"
    },
    {
     "data": {
      "image/png": "[encoded data removed]",
      "text/plain": [
       "<Figure size 640x480 with 1 Axes>"
      ]
     },
     "metadata": {},
     "output_type": "display_data"
    }
   ],
   "source": [
    "plt.plot(X,y,'o', alpha=0.5)\n",
    "plt.plot(xgrid, yp2)"
   ]
  },
  {
   "cell_type": "markdown",
   "metadata": {},
   "source": [
    "But because this is Logistic Regression, and it is a technique for classification, `sklearn` has an additional trick up its sleeve. It goves us those sigmoids at each data point, once"
   ]
  },
  {
   "cell_type": "code",
   "execution_count": 74,
   "metadata": {},
   "outputs": [
    {
     "data": {
      "text/plain": [
       "array([[9.99991666e-01, 8.33385525e-06],\n",
       "       [9.99991470e-01, 8.52978189e-06],\n",
       "       [9.99991270e-01, 8.73031467e-06],\n",
       "       ...,\n",
       "       [1.04079132e-05, 9.99989592e-01],\n",
       "       [1.01688468e-05, 9.99989831e-01],\n",
       "       [9.93527171e-06, 9.99990065e-01]])"
      ]
     },
     "execution_count": 74,
     "metadata": {},
     "output_type": "execute_result"
    }
   ],
   "source": [
    "logr.predict_proba(Xgrid)"
   ]
  },
  {
   "cell_type": "markdown",
   "metadata": {},
   "source": [
    "The second array gives us $h$, the probability of $y=1$ and the first array $1 - h$, the probability of the same data point having $y=0$:"
   ]
  },
  {
   "cell_type": "code",
   "execution_count": 75,
   "metadata": {},
   "outputs": [],
   "source": [
    "probs = logr.predict_proba(Xgrid)[:,1] # probabilities of y=1, the sigmoids"
   ]
  },
  {
   "cell_type": "code",
   "execution_count": 76,
   "metadata": {},
   "outputs": [
    {
     "data": {
      "text/plain": [
       "[<matplotlib.lines.Line2D at 0x14c154760>]"
      ]
     },
     "execution_count": 76,
     "metadata": {},
     "output_type": "execute_result"
    },
    {
     "data": {
      "image/png": "[encoded data removed]",
      "text/plain": [
       "<Figure size 640x480 with 1 Axes>"
      ]
     },
     "metadata": {},
     "output_type": "display_data"
    }
   ],
   "source": [
    "plt.plot(X,y,'o')\n",
    "plt.plot(xgrid, probs)"
   ]
  },
  {
   "cell_type": "markdown",
   "metadata": {},
   "source": [
    "### Metrics\n",
    "\n",
    "Since we know the actual values of the $y$s we can check how we did. This is called the **accuracy** score."
   ]
  },
  {
   "cell_type": "code",
   "execution_count": 16,
   "metadata": {},
   "outputs": [],
   "source": [
    "from sklearn.metrics import accuracy_score, log_loss"
   ]
  },
  {
   "cell_type": "markdown",
   "metadata": {},
   "source": [
    "Here is the accuracy on our dataset:"
   ]
  },
  {
   "cell_type": "code",
   "execution_count": 77,
   "metadata": {},
   "outputs": [
    {
     "data": {
      "text/plain": [
       "0.93"
      ]
     },
     "execution_count": 77,
     "metadata": {},
     "output_type": "execute_result"
    }
   ],
   "source": [
    "accuracy_score(y, logr.predict(X))"
   ]
  },
  {
   "cell_type": "markdown",
   "metadata": {},
   "source": [
    "What if we wanted to get the NLL, or the cross-entropy loss? `sklearn` makes this easy to get once we have extracted the probabilities:"
   ]
  },
  {
   "cell_type": "code",
   "execution_count": 79,
   "metadata": {},
   "outputs": [
    {
     "data": {
      "text/plain": [
       "0.21277985578931183"
      ]
     },
     "execution_count": 79,
     "metadata": {},
     "output_type": "execute_result"
    }
   ],
   "source": [
    "log_loss(y, logr.predict_proba(X)[:,1])"
   ]
  },
  {
   "cell_type": "markdown",
   "metadata": {},
   "source": [
    "We can check that this loss was actually minimized by these parameters. Let us let the \"slope\" parameter vary..."
   ]
  },
  {
   "cell_type": "code",
   "execution_count": 80,
   "metadata": {},
   "outputs": [],
   "source": [
    "proba = lambda m,x: 1./(1+np.exp(-(m*x + logr.intercept_))) # here is the sigmoid with the slope variable"
   ]
  },
  {
   "cell_type": "code",
   "execution_count": 83,
   "metadata": {},
   "outputs": [],
   "source": [
    "losses = lambda m: log_loss(y, proba(m, X)) # this constructs the loss as a function of the slope"
   ]
  },
  {
   "cell_type": "code",
   "execution_count": 84,
   "metadata": {},
   "outputs": [
    {
     "data": {
      "text/plain": [
       "0.21277985578931183"
      ]
     },
     "execution_count": 84,
     "metadata": {},
     "output_type": "execute_result"
    }
   ],
   "source": [
    "losses(logr.coef_) # get back the loss at the minimum"
   ]
  },
  {
   "cell_type": "markdown",
   "metadata": {},
   "source": [
    "Now let us make a grid of \"slopes\" and see what the losses are:"
   ]
  },
  {
   "cell_type": "code",
   "execution_count": 85,
   "metadata": {},
   "outputs": [
    {
     "data": {
      "text/plain": [
       "[<matplotlib.lines.Line2D at 0x14b574310>]"
      ]
     },
     "execution_count": 85,
     "metadata": {},
     "output_type": "execute_result"
    },
    {
     "data": {
      "image/png": "[encoded data removed]",
      "text/plain": [
       "<Figure size 640x480 with 1 Axes>"
      ]
     },
     "metadata": {},
     "output_type": "display_data"
    }
   ],
   "source": [
    "cgrid = np.linspace(2.5,4.5,1000)\n",
    "plt.plot(cgrid, [losses(c) for c in cgrid])"
   ]
  },
  {
   "cell_type": "markdown",
   "metadata": {},
   "source": [
    "Sure enough, our fit \"slope\" and \"intercept\" minimize the cross-entropy."
   ]
  },
  {
   "cell_type": "markdown",
   "metadata": {},
   "source": [
    "### From probabilities to classification\n",
    "\n",
    "The astute reader might have noticed that logistic regression only models probabilities for us as sigmoids. It does not tell us what to do with them. Yet `sklearn` uses `predict` to make predictions in addition to giving us probabilities using `predict_proba`. What gives?\n",
    "\n",
    "Going from probabilities to classification is the realm of **decision theory**. This is a complex and fun subject. But here lets just say that `sklearn` uses the intuitive threshold of 0.5 probability to decide if something is $y=1$ or not. I mean if the probability of something being 1 is more than half, then the probability of it not being 1 has to be less than half. So this seems to be a good decision scheme. We can implement it ourselves and check that we get the same accuracy:"
   ]
  },
  {
   "cell_type": "code",
   "execution_count": 15,
   "metadata": {},
   "outputs": [
    {
     "data": {
      "text/plain": [
       "0.93"
      ]
     },
     "execution_count": 15,
     "metadata": {},
     "output_type": "execute_result"
    }
   ],
   "source": [
    "ypred = 1*(logr.predict_proba(X)[:,1] >= 0.5)\n",
    "accuracy_score(y, ypred)"
   ]
  },
  {
   "cell_type": "markdown",
   "metadata": {},
   "source": [
    "Why might you not want to use a *threshold* of 0.5? Well, consider the situation in which $y=1$ means that you have cancer. I do not know about you, but if there is a 10% probability I have cancer, get me a biopsy. In this case, you might want to set the classification threshold at 0.1. (Or maybe even lower!!!)"
   ]
  }
 ],
 "metadata": {
  "kernelspec": {
   "display_name": "ml1-arm64",
   "language": "python",
   "name": "ml1-arm64"
  },
  "language_info": {
   "codemirror_mode": {
    "name": "ipython",
    "version": 3
   },
   "file_extension": ".py",
   "mimetype": "text/x-python",
   "name": "python",
   "nbconvert_exporter": "python",
   "pygments_lexer": "ipython3",
   "version": "3.9.13"
  }
 },
 "nbformat": 4,
 "nbformat_minor": 4
}
